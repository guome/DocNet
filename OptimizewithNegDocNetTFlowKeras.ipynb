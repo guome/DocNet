{
  "nbformat": 4,
  "nbformat_minor": 0,
  "metadata": {
    "colab": {
      "name": "OptimizewithNegDocNetKeras.ipynb",
      "version": "0.3.2",
      "provenance": [],
      "collapsed_sections": [],
      "include_colab_link": true
    },
    "kernelspec": {
      "name": "python3",
      "display_name": "Python 3"
    },
    "accelerator": "GPU"
  },
  "cells": [
    {
      "cell_type": "markdown",
      "metadata": {
        "id": "view-in-github",
        "colab_type": "text"
      },
      "source": [
        "<a href=\"https://colab.research.google.com/github/kdave123/DocNet/blob/master/OptimizewithNegDocNetTFlowKeras.ipynb\" target=\"_parent\"><img src=\"https://colab.research.google.com/assets/colab-badge.svg\" alt=\"Open In Colab\"/></a>"
      ]
    },
    {
      "metadata": {
        "id": "MLtPEiqkglPN",
        "colab_type": "code",
        "outputId": "d7013e64-e954-458a-de54-93309d25ac10",
        "colab": {
          "base_uri": "https://localhost:8080/",
          "height": 35
        }
      },
      "cell_type": "code",
      "source": [
        "from google.colab import drive\n",
        "drive.mount('/content/drive')"
      ],
      "execution_count": 0,
      "outputs": [
        {
          "output_type": "stream",
          "text": [
            "Drive already mounted at /content/drive; to attempt to forcibly remount, call drive.mount(\"/content/drive\", force_remount=True).\n"
          ],
          "name": "stdout"
        }
      ]
    },
    {
      "metadata": {
        "id": "3zwfnrmKguml",
        "colab_type": "code",
        "outputId": "54902cc9-d6e5-457a-989e-8ecc29ea4ebd",
        "colab": {
          "base_uri": "https://localhost:8080/",
          "height": 164
        }
      },
      "cell_type": "code",
      "source": [
        "import matplotlib.pyplot as plt\n",
        "import numpy as np\n",
        "import cv2\n",
        "import os\n",
        "from tqdm import tqdm\n",
        "\n",
        "DATADIR = \"drive/My Drive/Colab Notebooks/dataset\"\n",
        "\n",
        "CATEGORIES = [\"aa/train\",\"pa/train\",\"negative\"]\n",
        "\n",
        "training_data = []\n",
        "\n",
        "def create_training_data():\n",
        "    for category in CATEGORIES:  \n",
        "\n",
        "        path = os.path.join(DATADIR,category)  \n",
        "        class_num = CATEGORIES.index(category)  \n",
        "        for img in tqdm(os.listdir(path)):  # iterate over each image\n",
        "            try:\n",
        "                img_array = cv2.imread(os.path.join(path,img) ,cv2.IMREAD_GRAYSCALE)  # convert to array\n",
        "                new_array = cv2.resize(img_array, (128, 74))  # resize to normalize data size\n",
        "                training_data.append([new_array, class_num])  \n",
        "            except Exception as e:  \n",
        "                pass\n",
        "            #except OSError as e:\n",
        "            #    print(\"OSErrroBad img most likely\", e, os.path.join(path,img))\n",
        "            #except Exception as e:\n",
        "            #    print(\"general exception\", e, os.path.join(path,img))\n",
        "\n",
        "create_training_data()\n",
        "\n",
        "print(len(training_data))\n",
        "\n",
        "\n",
        "\n",
        "\n",
        "DATADIR = \"drive/My Drive/Colab Notebooks/dataset\"\n",
        "\n",
        "CATEGORIES = [\"real_a\",\"real_p\",\"test_negative\"]\n",
        "\n",
        "test_data = []\n",
        "\n",
        "def create_test_data():\n",
        "    for category in CATEGORIES:  \n",
        "\n",
        "        path = os.path.join(DATADIR,category)  \n",
        "        class_num = CATEGORIES.index(category) \n",
        "\n",
        "        for img in tqdm(os.listdir(path)):  \n",
        "            try:\n",
        "                img_array = cv2.imread(os.path.join(path,img) ,cv2.IMREAD_GRAYSCALE) ]\n",
        "                new_array = cv2.resize(img_array, (128, 74))  # resize to normalize data size\n",
        "                test_data.append([new_array, class_num]) \n",
        "            except Exception as e: \n",
        "                pass\n",
        "            #except OSError as e:\n",
        "            #    print(\"OSErrroBad img most likely\", e, os.path.join(path,img))\n",
        "            #except Exception as e:\n",
        "            #    print(\"general exception\", e, os.path.join(path,img))\n",
        "\n",
        "create_test_data()\n",
        "\n",
        "print(len(test_data))\n",
        "\n"
      ],
      "execution_count": 0,
      "outputs": [
        {
          "output_type": "stream",
          "text": [
            "100%|██████████| 1530/1530 [00:09<00:00, 168.50it/s]\n",
            "100%|██████████| 1702/1702 [00:11<00:00, 148.52it/s]\n",
            "100%|██████████| 1111/1111 [00:12<00:00, 83.37it/s]\n",
            "100%|██████████| 18/18 [00:00<00:00, 152.07it/s]\n",
            "100%|██████████| 7/7 [00:00<00:00, 123.53it/s]\n",
            "  0%|          | 0/1 [00:00<?, ?it/s]"
          ],
          "name": "stderr"
        },
        {
          "output_type": "stream",
          "text": [
            "4338\n"
          ],
          "name": "stdout"
        },
        {
          "output_type": "stream",
          "text": [
            "\r100%|██████████| 1/1 [00:00<00:00, 107.91it/s]"
          ],
          "name": "stderr"
        },
        {
          "output_type": "stream",
          "text": [
            "26\n"
          ],
          "name": "stdout"
        },
        {
          "output_type": "stream",
          "text": [
            "\n"
          ],
          "name": "stderr"
        }
      ]
    },
    {
      "metadata": {
        "id": "0G19BPaKhA0Y",
        "colab_type": "code",
        "outputId": "ca8e93ad-716c-41d6-86c1-cc1bb52f5e78",
        "colab": {
          "base_uri": "https://localhost:8080/",
          "height": 1291
        }
      },
      "cell_type": "code",
      "source": [
        "\n",
        "\n",
        "\n",
        "print(training_data[4000][1])\n",
        "plt.imshow(training_data[4000][0], cmap='gray')\n",
        "plt.show()\n",
        "\n",
        "\n",
        "import random\n",
        "\n",
        "random.shuffle(training_data)\n",
        "\n",
        "print(len(training_data))\n",
        "X_training = []\n",
        "Y_training = []\n",
        "\n",
        "for features,label in training_data:\n",
        "    X_training.append(features)\n",
        "    Y_training.append(label)\n",
        "print(Y_training[23])\n",
        "plt.imshow(X_training[23], cmap='gray')\n",
        "plt.show()\n",
        "X_training = (np.array(X_training).reshape(-1, 128, 74, 1))\n",
        "Y_training = np.array(Y_training)\n",
        "\n",
        "\n",
        "\n",
        "\n",
        "import pickle\n",
        "\n",
        "pickle_out = open(\"drive/My Drive/X_training.pickle\",\"wb\")\n",
        "pickle.dump(X_training, pickle_out)\n",
        "pickle_out.close()\n",
        "\n",
        "pickle_out = open(\"drive/My Drive/Y_training.pickle\",\"wb\")\n",
        "pickle.dump(Y_training, pickle_out)\n",
        "pickle_out.close()\n",
        "\n",
        "#for restoring\n",
        "#pickle_in = open(\"X.pickle\",\"rb\")\n",
        "#X = pickle.load(pickle_in)\n",
        "\n",
        "#pickle_in = open(\"y.pickle\",\"rb\")\n",
        "#y = pickle.load(pickle_in)\n",
        "\n",
        "\n",
        "\n",
        "\n",
        "print(test_data[25][1])\n",
        "plt.imshow(test_data[25][0], cmap='gray')\n",
        "plt.show()\n",
        "\n",
        "\n",
        "\n",
        "random.shuffle(test_data)\n",
        "\n",
        "print(len(test_data))\n",
        "X_test = []\n",
        "Y_test = []\n",
        "\n",
        "for features,label in test_data:\n",
        "    X_test.append(features)\n",
        "    Y_test.append(label)\n",
        "plt.imshow(X_test[23],cmap=\"gray\")   \n",
        "print(Y_test[0])\n",
        "X_test = (np.array(X_test).reshape(-1, 128, 74, 1))\n",
        "Y_test = np.array(Y_test)\n",
        "\n",
        "\n",
        "pickle_out = open(\"drive/My Drive/X_test.pickle\",\"wb\")\n",
        "pickle.dump(X_test, pickle_out)\n",
        "pickle_out.close()\n",
        "\n",
        "pickle_out = open(\"drive/My Drive/Y_test.pickle\",\"wb\")\n",
        "pickle.dump(Y_test, pickle_out)\n",
        "pickle_out.close()\n",
        "\n",
        "#for restoring\n",
        "#pickle_in = open(\"X.pickle\",\"rb\")\n",
        "#X = pickle.load(pickle_in)\n",
        "\n",
        "#pickle_in = open(\"y.pickle\",\"rb\")\n",
        "#y = pickle.load(pickle_in)"
      ],
      "execution_count": 0,
      "outputs": [
        {
          "output_type": "stream",
          "text": [
            "2\n"
          ],
          "name": "stdout"
        },
        {
          "output_type": "display_data",
          "data": {
            "image/png": "[encoded data removed]",
            "text/plain": [
              "<matplotlib.figure.Figure at 0x7f371ff7c898>"
            ]
          },
          "metadata": {
            "tags": []
          }
        },
        {
          "output_type": "stream",
          "text": [
            "4338\n",
            "2\n"
          ],
          "name": "stdout"
        },
        {
          "output_type": "display_data",
          "data": {
            "image/png": "[encoded data removed]",
            "text/plain": [
              "<matplotlib.figure.Figure at 0x7f371f6a8630>"
            ]
          },
          "metadata": {
            "tags": []
          }
        },
        {
          "output_type": "stream",
          "text": [
            "2\n"
          ],
          "name": "stdout"
        },
        {
          "output_type": "display_data",
          "data": {
            "image/png": "[encoded data removed]",
            "text/plain": [
              "<matplotlib.figure.Figure at 0x7f371d5f50b8>"
            ]
          },
          "metadata": {
            "tags": []
          }
        },
        {
          "output_type": "stream",
          "text": [
            "26\n",
            "0\n"
          ],
          "name": "stdout"
        },
        {
          "output_type": "display_data",
          "data": {
            "image/png": "[encoded data removed]",
            "text/plain": [
              "<matplotlib.figure.Figure at 0x7f371d5981d0>"
            ]
          },
          "metadata": {
            "tags": []
          }
        }
      ]
    },
    {
      "metadata": {
        "id": "nxrbFYCbhE1g",
        "colab_type": "code",
        "colab": {}
      },
      "cell_type": "code",
      "source": [
        ""
      ],
      "execution_count": 0,
      "outputs": []
    },
    {
      "metadata": {
        "id": "OF1qJUt6hK3N",
        "colab_type": "code",
        "colab": {}
      },
      "cell_type": "code",
      "source": [
        ""
      ],
      "execution_count": 0,
      "outputs": []
    },
    {
      "metadata": {
        "id": "5iCVR8fcjBDw",
        "colab_type": "code",
        "colab": {}
      },
      "cell_type": "code",
      "source": [
        ""
      ],
      "execution_count": 0,
      "outputs": []
    },
    {
      "metadata": {
        "id": "5O5Y7qCC4QxM",
        "colab_type": "code",
        "outputId": "eef30f71-3470-476a-f7d6-6688378a8f97",
        "colab": {
          "base_uri": "https://localhost:8080/",
          "height": 146
        }
      },
      "cell_type": "code",
      "source": [
        "from keras.utils import to_categorical\n",
        "%matplotlib inline\n",
        "\n",
        "print('Training data shape : ', X_training.shape, Y_training.shape)\n",
        "\n",
        "print('Testing data shape : ', X_test.shape, Y_test.shape)\n",
        "\n",
        "\n",
        "classes = np.unique(Y_training)\n",
        "nClasses = len(classes)\n",
        "print('Total number of outputs : ', nClasses)\n",
        "print('Output classes : ', classes)\n",
        "\n",
        "\n",
        "\n",
        "plt.figure(figsize=[5,5])\n",
        "\n",
        "#Display the first image in training data\n",
        "#plt.subplot(121)\n",
        "#plt.imshow(X_training[2500,:,:], cmap='gray')\n",
        "#plt.title(\"Ground Truth : {}\".format(Y_training[2500]))\n",
        "\n",
        "# Display the first image in testing data\n",
        "#plt.subplot(122)\n",
        "#plt.imshow(X_test[24,:,:], cmap='gray')\n",
        "#plt.title(\"Ground Truth : {}\".format(Y_test[24]))"
      ],
      "execution_count": 0,
      "outputs": [
        {
          "output_type": "stream",
          "text": [
            "Using TensorFlow backend.\n"
          ],
          "name": "stderr"
        },
        {
          "output_type": "stream",
          "text": [
            "Training data shape :  (4338, 128, 74, 1) (4338,)\n",
            "Testing data shape :  (26, 128, 74, 1) (26,)\n",
            "Total number of outputs :  3\n",
            "Output classes :  [0 1 2]\n"
          ],
          "name": "stdout"
        },
        {
          "output_type": "execute_result",
          "data": {
            "text/plain": [
              "<matplotlib.figure.Figure at 0x7f372710ad68>"
            ]
          },
          "metadata": {
            "tags": []
          },
          "execution_count": 4
        },
        {
          "output_type": "display_data",
          "data": {
            "text/plain": [
              "<matplotlib.figure.Figure at 0x7f372710ad68>"
            ]
          },
          "metadata": {
            "tags": []
          }
        }
      ]
    },
    {
      "metadata": {
        "id": "Y5KU_0pK5Ptn",
        "colab_type": "code",
        "colab": {}
      },
      "cell_type": "code",
      "source": [
        "X_training = X_training.astype('float32')\n",
        "X_test = X_test.astype('float32')\n",
        "X_training = X_training / 255.\n",
        "X_test = X_test / 255."
      ],
      "execution_count": 0,
      "outputs": []
    },
    {
      "metadata": {
        "id": "oT1WmQuM6JV-",
        "colab_type": "code",
        "outputId": "f289b5ce-c8ff-4dd9-af12-3f9707f679a7",
        "colab": {
          "base_uri": "https://localhost:8080/",
          "height": 90
        }
      },
      "cell_type": "code",
      "source": [
        "# Change the labels from categorical to one-hot encoding\n",
        "train_Y_one_hot = to_categorical(Y_training)\n",
        "test_Y_one_hot = to_categorical(Y_test)\n",
        "\n",
        "# Display the change for category label using one-hot encoding\n",
        "print('Original label:', Y_training[0])\n",
        "print('After conversion to one-hot:', train_Y_one_hot[0])\n",
        "print('After conversion to one-hot:', test_Y_one_hot[0])\n",
        "print(Y_test)\n"
      ],
      "execution_count": 0,
      "outputs": [
        {
          "output_type": "stream",
          "text": [
            "Original label: 0\n",
            "After conversion to one-hot: [1. 0. 0.]\n",
            "After conversion to one-hot: [1. 0. 0.]\n",
            "[0 0 0 0 0 2 0 1 0 0 1 0 0 1 0 1 1 0 1 0 0 0 0 0 1 0]\n"
          ],
          "name": "stdout"
        }
      ]
    },
    {
      "metadata": {
        "id": "twGs4tHO63Uj",
        "colab_type": "code",
        "outputId": "9990f312-7e6c-4d88-f76a-8e4623b574ba",
        "colab": {
          "base_uri": "https://localhost:8080/",
          "height": 35
        }
      },
      "cell_type": "code",
      "source": [
        "from sklearn.model_selection import train_test_split\n",
        "train_X,valid_X,train_label,valid_label = train_test_split(X_training, train_Y_one_hot, test_size=0.2, random_state=13)\n",
        "\n",
        "train_X.shape,valid_X.shape,train_label.shape,valid_label.shape"
      ],
      "execution_count": 0,
      "outputs": [
        {
          "output_type": "execute_result",
          "data": {
            "text/plain": [
              "((3470, 128, 74, 1), (868, 128, 74, 1), (3470, 3), (868, 3))"
            ]
          },
          "metadata": {
            "tags": []
          },
          "execution_count": 7
        }
      ]
    },
    {
      "metadata": {
        "id": "EHPhC5z28hcc",
        "colab_type": "code",
        "colab": {}
      },
      "cell_type": "code",
      "source": [
        "import keras\n",
        "from keras.models import Sequential,Input,Model\n",
        "from keras.layers import Dense, Dropout, Flatten\n",
        "from keras.layers import Conv2D, MaxPooling2D\n",
        "from keras.layers.normalization import BatchNormalization\n",
        "from keras.layers.advanced_activations import LeakyReLU"
      ],
      "execution_count": 0,
      "outputs": []
    },
    {
      "metadata": {
        "id": "8Y9ObDKb9Cjo",
        "colab_type": "code",
        "outputId": "38e87b71-685d-4dbf-8381-10936dc65de4",
        "colab": {
          "base_uri": "https://localhost:8080/",
          "height": 90
        }
      },
      "cell_type": "code",
      "source": [
        "!pip install tensorboardcolab\n",
        "from tensorboardcolab import TensorBoardColab\n",
        "tbc = TensorBoardColab()\n",
        "batch_size = 64\n",
        "epochs = 1\n",
        "num_classes = 3"
      ],
      "execution_count": 0,
      "outputs": [
        {
          "output_type": "stream",
          "text": [
            "Requirement already satisfied: tensorboardcolab in /usr/local/lib/python3.6/dist-packages (0.0.19)\n",
            "Wait for 8 seconds...\n",
            "TensorBoard link:\n",
            "http://655cf0cd.ngrok.io\n"
          ],
          "name": "stdout"
        }
      ]
    },
    {
      "metadata": {
        "id": "FGsrCIP_9Gxo",
        "colab_type": "code",
        "outputId": "d5190646-8147-47f3-8fd8-029228b1b129",
        "colab": {
          "base_uri": "https://localhost:8080/",
          "height": 605
        }
      },
      "cell_type": "code",
      "source": [
        "from tensorboardcolab import TensorBoardColabCallback\n",
        "import time\n",
        "dense_layers = [0]\n",
        "all_filters = [4,32]\n",
        "conv_layers = [3,6]\n",
        "dropout_list = [0.2,0.8]\n",
        "dense_node_list =[0]\n",
        "i=0\n",
        "for dense_layer in dense_layers:\n",
        "  \n",
        "  for  no_of_filters in all_filters:\n",
        "    \n",
        "    for conv_layer in conv_layers:\n",
        "      \n",
        "      for drop_outs in dropout_list:\n",
        "        \n",
        "        for dense_nodes in dense_node_list:\n",
        "          \n",
        "          if(dense_layer == 0 ):            \n",
        "            dense_nodes=0\n",
        "          NAME = \"{}-conv-{}-filter-{}-dense-{}-DropoutPercent-{}-DenseNodes-{}\".format(conv_layer, no_of_filters, dense_layer,drop_outs,dense_nodes, int(time.time()))\n",
        "          i=i+1\n",
        "          print(i,end=\" \")\n",
        "          print(NAME)        \n",
        "          \n",
        "\n",
        "          docnet_model = Sequential()\n",
        "          docnet_model.add(Conv2D(no_of_filters, kernel_size=(3, 3),input_shape=X_training.shape[1:]))\n",
        "          docnet_model.add(LeakyReLU(alpha=0.1))\n",
        "          docnet_model.add(MaxPooling2D((2, 2)))\n",
        "          #docnet_model.add(Dropout(0.1))\n",
        "\n",
        "          for l in range(conv_layer-1):\n",
        "\n",
        "                           docnet_model.add(Conv2D(no_of_filters, (3, 3),padding=\"same\"))\n",
        "                           docnet_model.add(LeakyReLU(alpha=0.1))\n",
        "                           docnet_model.add(MaxPooling2D(pool_size=(2, 2),padding=\"same\"))\n",
        "                           #docnet_model.add(Dropout(0.6))\n",
        "\n",
        "\n",
        "          docnet_model.add(Flatten())\n",
        "          for _ in range(dense_layer):\n",
        "                           docnet_model.add(Dense(dense_nodes))\n",
        "                           docnet_model.add(LeakyReLU(alpha=0.1))                  \n",
        "\n",
        "          docnet_model.add(Dropout(drop_outs)) \n",
        "\n",
        "\n",
        "          docnet_model.add(Dense(num_classes, activation='softmax'))\n",
        "\n",
        "\n",
        "          docnet_model.compile(loss=keras.losses.categorical_crossentropy, optimizer=keras.optimizers.Adam(),metrics=['accuracy'])\n",
        "          docnet_trained = docnet_model.fit(train_X, train_label, batch_size=batch_size,epochs=epochs,verbose=1,validation_data=(X_test, test_Y_one_hot),callbacks=[TensorBoardColabCallback(tbc)])\n",
        "\n",
        "\n",
        "          accuracy = docnet_trained.history['acc']\n",
        "          val_accuracy = docnet_trained.history['val_acc']\n",
        "          loss = docnet_trained.history['loss']\n",
        "          val_loss = docnet_trained.history['val_loss']\n",
        "          tbc.save_value(\"acc\",NAME,epochs,np.array(accuracy))\n",
        "          tbc.save_value(\"val_acc\",NAME,epochs,np.array(val_accuracy))\n",
        "          tbc.save_value(\"loss\",NAME,epochs,np.array(loss))\n",
        "          tbc.save_value(\"val_loss\",NAME,epochs,np.array(val_loss))\n",
        "\n",
        "          tbc.flush_line(\"acc\")\n",
        "          tbc.flush_line(\"val_acc\")\n",
        "          tbc.flush_line(\"loss\")\n",
        "          tbc.flush_line(\"val_loss\")\n",
        "          tbc.close()\n",
        "          if(dense_layer == 0 ):\n",
        "            break;\n"
      ],
      "execution_count": 0,
      "outputs": [
        {
          "output_type": "stream",
          "text": [
            "1 2-conv-16-filter-0-dense-0.4-DropoutPercent-0-DenseNodes-1542035741\n",
            "Train on 3470 samples, validate on 26 samples\n",
            "Epoch 1/1\n",
            "3470/3470 [==============================] - 4s 1ms/step - loss: 0.2559 - acc: 0.9233 - val_loss: 3.7422 - val_acc: 0.1154\n",
            "2 2-conv-16-filter-0-dense-0.8-DropoutPercent-0-DenseNodes-1542035771\n",
            "Train on 3470 samples, validate on 26 samples\n",
            "Epoch 1/1\n",
            "3470/3470 [==============================] - 4s 1ms/step - loss: 0.3780 - acc: 0.8769 - val_loss: 2.2245 - val_acc: 0.2308\n",
            "3 3-conv-16-filter-0-dense-0.4-DropoutPercent-0-DenseNodes-1542035801\n",
            "Train on 3470 samples, validate on 26 samples\n",
            "Epoch 1/1\n",
            "3470/3470 [==============================] - 4s 1ms/step - loss: 0.5125 - acc: 0.7971 - val_loss: 1.4748 - val_acc: 0.5000\n",
            "4 3-conv-16-filter-0-dense-0.8-DropoutPercent-0-DenseNodes-1542035831\n",
            "Train on 3470 samples, validate on 26 samples\n",
            "Epoch 1/1\n",
            "3470/3470 [==============================] - 4s 1ms/step - loss: 0.6376 - acc: 0.7337 - val_loss: 1.3995 - val_acc: 0.5385\n",
            "5 2-conv-32-filter-0-dense-0.4-DropoutPercent-0-DenseNodes-1542035861\n",
            "Train on 3470 samples, validate on 26 samples\n",
            "Epoch 1/1\n",
            "3470/3470 [==============================] - 5s 1ms/step - loss: 0.2258 - acc: 0.9317 - val_loss: 5.2515 - val_acc: 0.1154\n",
            "6 2-conv-32-filter-0-dense-0.8-DropoutPercent-0-DenseNodes-1542035892\n",
            "Train on 3470 samples, validate on 26 samples\n",
            "Epoch 1/1\n",
            "3470/3470 [==============================] - 5s 1ms/step - loss: 0.2185 - acc: 0.9334 - val_loss: 3.9887 - val_acc: 0.1538\n",
            "7 3-conv-32-filter-0-dense-0.4-DropoutPercent-0-DenseNodes-1542035922\n",
            "Train on 3470 samples, validate on 26 samples\n",
            "Epoch 1/1\n",
            "3470/3470 [==============================] - 5s 1ms/step - loss: 0.3330 - acc: 0.8836 - val_loss: 2.4980 - val_acc: 0.3077\n",
            "8 3-conv-32-filter-0-dense-0.8-DropoutPercent-0-DenseNodes-1542035954\n",
            "Train on 3470 samples, validate on 26 samples\n",
            "Epoch 1/1\n",
            "3470/3470 [==============================] - 5s 1ms/step - loss: 0.4088 - acc: 0.8340 - val_loss: 1.9944 - val_acc: 0.5385\n"
          ],
          "name": "stdout"
        }
      ]
    },
    {
      "metadata": {
        "id": "k8Yen1j891Pu",
        "colab_type": "code",
        "colab": {}
      },
      "cell_type": "code",
      "source": [
        "docnet_model.compile(loss=keras.losses.categorical_crossentropy, optimizer=keras.optimizers.Adam(),metrics=['accuracy'])"
      ],
      "execution_count": 0,
      "outputs": []
    },
    {
      "metadata": {
        "id": "F0a31i12-Yvn",
        "colab_type": "code",
        "outputId": "6e40b2f5-238c-4727-f22c-da8690227991",
        "colab": {
          "base_uri": "https://localhost:8080/",
          "height": 697
        }
      },
      "cell_type": "code",
      "source": [
        "docnet_model.summary()"
      ],
      "execution_count": 0,
      "outputs": [
        {
          "output_type": "stream",
          "text": [
            "_________________________________________________________________\n",
            "Layer (type)                 Output Shape              Param #   \n",
            "=================================================================\n",
            "conv2d_55 (Conv2D)           (None, 126, 72, 128)      1280      \n",
            "_________________________________________________________________\n",
            "leaky_re_lu_81 (LeakyReLU)   (None, 126, 72, 128)      0         \n",
            "_________________________________________________________________\n",
            "max_pooling2d_55 (MaxPooling (None, 63, 36, 128)       0         \n",
            "_________________________________________________________________\n",
            "conv2d_56 (Conv2D)           (None, 61, 34, 128)       147584    \n",
            "_________________________________________________________________\n",
            "leaky_re_lu_82 (LeakyReLU)   (None, 61, 34, 128)       0         \n",
            "_________________________________________________________________\n",
            "max_pooling2d_56 (MaxPooling (None, 30, 17, 128)       0         \n",
            "_________________________________________________________________\n",
            "conv2d_57 (Conv2D)           (None, 28, 15, 128)       147584    \n",
            "_________________________________________________________________\n",
            "leaky_re_lu_83 (LeakyReLU)   (None, 28, 15, 128)       0         \n",
            "_________________________________________________________________\n",
            "max_pooling2d_57 (MaxPooling (None, 14, 7, 128)        0         \n",
            "_________________________________________________________________\n",
            "flatten_28 (Flatten)         (None, 12544)             0         \n",
            "_________________________________________________________________\n",
            "dense_54 (Dense)             (None, 128)               1605760   \n",
            "_________________________________________________________________\n",
            "leaky_re_lu_84 (LeakyReLU)   (None, 128)               0         \n",
            "_________________________________________________________________\n",
            "dense_55 (Dense)             (None, 128)               16512     \n",
            "_________________________________________________________________\n",
            "leaky_re_lu_85 (LeakyReLU)   (None, 128)               0         \n",
            "_________________________________________________________________\n",
            "dense_56 (Dense)             (None, 3)                 387       \n",
            "=================================================================\n",
            "Total params: 1,919,107\n",
            "Trainable params: 1,919,107\n",
            "Non-trainable params: 0\n",
            "_________________________________________________________________\n"
          ],
          "name": "stdout"
        }
      ]
    },
    {
      "metadata": {
        "id": "SgJS16pa-c2X",
        "colab_type": "code",
        "outputId": "765559fa-5e56-465d-9607-b6f0c0272c31",
        "colab": {
          "base_uri": "https://localhost:8080/",
          "height": 88
        }
      },
      "cell_type": "code",
      "source": [
        "docnet_trained = docnet_model.fit(train_X, train_label, batch_size=batch_size,epochs=epochs,verbose=1,validation_data=(valid_X, valid_label))"
      ],
      "execution_count": 0,
      "outputs": [
        {
          "output_type": "stream",
          "text": [
            "Train on 3470 samples, validate on 868 samples\n",
            "Epoch 1/1\n",
            "3470/3470 [==============================] - 4s 1ms/step - loss: 0.0677 - acc: 0.9844 - val_loss: 0.0297 - val_acc: 0.9896\n"
          ],
          "name": "stdout"
        }
      ]
    },
    {
      "metadata": {
        "id": "9gjcBKuL_JBb",
        "colab_type": "code",
        "cellView": "code",
        "outputId": "1d79f87f-5ecf-4463-860c-c9d4fa65c61e",
        "colab": {
          "base_uri": "https://localhost:8080/",
          "height": 68
        }
      },
      "cell_type": "code",
      "source": [
        "\n",
        "#@title Default title text\n",
        "test_eval = docnet_model.evaluate(X_test, test_Y_one_hot, verbose=1)\n",
        "print('Test loss:', test_eval[0])\n",
        "print('Test accuracy:', test_eval[1])\n"
      ],
      "execution_count": 0,
      "outputs": [
        {
          "output_type": "stream",
          "text": [
            "\r26/26 [==============================] - 0s 401us/step\n",
            "Test loss: 1.689581036567688\n",
            "Test accuracy: 0.42307692766189575\n"
          ],
          "name": "stdout"
        }
      ]
    },
    {
      "metadata": {
        "id": "PbkzM1jcCAF4",
        "colab_type": "code",
        "colab": {}
      },
      "cell_type": "code",
      "source": [
        "docnet_model.save('drive/My Drive/docnet_model_3classes.h5')\n",
        "docnet_model.save(\"drive/My Drive/docnet_model_3classes.h5py\")"
      ],
      "execution_count": 0,
      "outputs": []
    },
    {
      "metadata": {
        "id": "BZ1BEw3SFuuF",
        "colab_type": "code",
        "colab": {}
      },
      "cell_type": "code",
      "source": [
        "\n",
        "accuracy = docnet_trained.history['acc']\n",
        "val_accuracy = docnet_trained.history['val_acc']\n",
        "loss = docnet_trained.history['loss']\n",
        "val_loss = docnet_trained.history['val_loss']\n",
        "epochs = range(len(accuracy))\n",
        "plt.plot(epochs, accuracy, 'bo', label='Training accuracy')\n",
        "plt.plot(epochs, val_accuracy, 'b', label='Validation accuracy')\n",
        "plt.title('Training and validation accuracy')\n",
        "plt.legend()\n",
        "plt.figure()\n",
        "plt.plot(epochs, loss, 'bo', label='Training loss')\n",
        "plt.plot(epochs, val_loss, 'b', label='Validation loss')\n",
        "plt.title('Training and validation loss')\n",
        "plt.legend()\n",
        "plt.show()\n",
        "\n",
        "predicted_classes = docnet_model.predict(X_test)\n",
        "predicted_classes = np.argmax(np.round(predicted_classes),axis=1)\n",
        "predicted_classes.shape, Y_test.shape\n"
      ],
      "execution_count": 0,
      "outputs": []
    },
    {
      "metadata": {
        "id": "3_sAo7d2ICPX",
        "colab_type": "code",
        "colab": {}
      },
      "cell_type": "code",
      "source": [
        "correct = np.where(predicted_classes==Y_test)[0]\n",
        "print(\"Found %d correct labels\" % len(correct))\n",
        "for i, correct in enumerate(correct[15:24]):\n",
        "    plt.subplot(3,3,i+1)\n",
        "    plt.imshow(X_test[correct].reshape(128,74,1), cmap='gray', interpolation='none')\n",
        "    plt.title(\"Predicted {}, Class {}\".format(predicted_classes[correct], Y_test[correct]))\n",
        "    plt.tight_layout()"
      ],
      "execution_count": 0,
      "outputs": []
    },
    {
      "metadata": {
        "id": "bN28n55RL8YG",
        "colab_type": "code",
        "colab": {}
      },
      "cell_type": "code",
      "source": [
        "incorrect = np.where(predicted_classes!=Y_test)[0]\n",
        "print (\"Found %d incorrect labels\" % len(incorrect))\n",
        "for i, incorrect in enumerate(incorrect[:9]):\n",
        "    plt.subplot(3,3,i+1)\n",
        "    plt.imshow(X_test[incorrect].reshape(128,74,1), cmap='gray', interpolation='none')\n",
        "    plt.title(\"Predicted {}, Class {}\".format(predicted_classes[incorrect], Y_test[incorrect]))\n",
        "    plt.tight_layout()"
      ],
      "execution_count": 0,
      "outputs": []
    },
    {
      "metadata": {
        "id": "PtSVKGUfN1uE",
        "colab_type": "code",
        "colab": {}
      },
      "cell_type": "code",
      "source": [
        "from sklearn.metrics import classification_report\n",
        "target_names = [\"Class {}\".format(i) for i in range(num_classes)]\n",
        "print(classification_report(Y_test ,predicted_classes, target_names=target_names))"
      ],
      "execution_count": 0,
      "outputs": []
    },
    {
      "metadata": {
        "id": "X56ENwLnOAVw",
        "colab_type": "code",
        "colab": {}
      },
      "cell_type": "code",
      "source": [
        "model = keras.models.load_model('drive/My Drive/docnet_model_3classes.h5')"
      ],
      "execution_count": 0,
      "outputs": []
    },
    {
      "metadata": {
        "id": "Dri3yli-Gm6K",
        "colab_type": "code",
        "outputId": "732416c6-8c50-4172-afc3-14b923fb74c5",
        "colab": {
          "base_uri": "https://localhost:8080/",
          "height": 1313
        }
      },
      "cell_type": "code",
      "source": [
        "test_eval = model.evaluate(X_test, test_Y_one_hot, verbose=1)\n",
        "print('Test loss:', test_eval[0])\n",
        "print('Test accuracy:', test_eval[1])\n",
        "\n",
        "pred = model.predict(X_test)\n",
        "\n",
        "pred0 = [round(x[0],5) * 100 for x in pred]\n",
        "pred1 = [round(x[1],5) * 100 for x in pred]\n",
        "pred2 = [round(x[2],5) * 100 for x in pred]\n",
        "prediction_confidence = (list(zip(pred0, pred1,pred2)))\n",
        "for confi in prediction_confidence:\n",
        "  print(confi)"
      ],
      "execution_count": 0,
      "outputs": [
        {
          "output_type": "stream",
          "text": [
            "\r26/26 [==============================] - 0s 4ms/step\n",
            "Test loss: 0.9092806577682495\n",
            "Test accuracy: 0.7692307829856873\n",
            "(1.3819999992847443, 1.4650000259280205, 97.15399742126465)\n",
            "(67.99299716949463, 27.142000198364258, 4.865000024437904)\n",
            "(53.00400257110596, 43.29099953174591, 3.7050001323223114)\n",
            "(97.93699979782104, 1.444000005722046, 0.6180000025779009)\n",
            "(0.203000009059906, 99.67300295829773, 0.12400000123307109)\n",
            "(94.65399980545044, 0.0029999999242136255, 5.344000086188316)\n",
            "(99.08900260925293, 0.5770000163465738, 0.33400000538676977)\n",
            "(24.449999630451202, 33.869001269340515, 41.679999232292175)\n",
            "(94.92999911308289, 1.2369999662041664, 3.8329999893903732)\n",
            "(30.717000365257263, 1.4539999887347221, 67.82900094985962)\n",
            "(97.45100140571594, 0.013000000035390258, 2.5359999388456345)\n",
            "(98.51800203323364, 0.033000000985339284, 1.448999997228384)\n",
            "(0.0, 0.01699999993434176, 99.98300075531006)\n",
            "(0.004999999873689376, 0.12199999764561653, 99.87199902534485)\n",
            "(94.26699876785278, 2.2929999977350235, 3.4400001168251038)\n",
            "(26.256000995635986, 69.45300102233887, 4.290999844670296)\n",
            "(12.213999778032303, 39.25299942493439, 48.53200018405914)\n",
            "(74.7439980506897, 0.9619999676942825, 24.29399937391281)\n",
            "(97.63100147247314, 0.3010000102221966, 2.067999914288521)\n",
            "(8.983000367879868, 82.10600018501282, 8.911000192165375)\n",
            "(0.2090000081807375, 97.08099961280823, 2.710000053048134)\n",
            "(1.754000037908554, 96.3919997215271, 1.8530000001192093)\n",
            "(44.7050005197525, 10.743000358343124, 44.55299973487854)\n",
            "(2.9500000178813934, 87.60300278663635, 9.447000175714493)\n",
            "(64.01100158691406, 34.77399945259094, 1.2160000391304493)\n",
            "(8.570999652147293, 86.09099984169006, 5.339000001549721)\n"
          ],
          "name": "stdout"
        }
      ]
    },
    {
      "metadata": {
        "id": "qz91BvEydhGt",
        "colab_type": "code",
        "outputId": "d1bee10b-211c-41ac-f848-201b220abf0f",
        "colab": {
          "base_uri": "https://localhost:8080/",
          "height": 164
        }
      },
      "cell_type": "code",
      "source": [
        "from tensorboardcolab import TensorBoardColabCallback\n",
        "import time\n",
        "dense_layers = [0]\n",
        "all_filters = [16,32]\n",
        "conv_layers = [2,3]\n",
        "dropout_list = [0.4,0.8]\n",
        "dense_node_list =[0]\n",
        "i=0\n",
        "for dense_layer in dense_layers:\n",
        "  \n",
        "  for  no_of_filters in all_filters:\n",
        "    \n",
        "    for conv_layer in conv_layers:\n",
        "      \n",
        "      for drop_outs in dropout_list:\n",
        "        \n",
        "        for dense_nodes in dense_node_list:\n",
        "          \n",
        "          if(dense_layer == 0 ):            \n",
        "            dense_nodes=0\n",
        "          NAME = \"{}-conv-{}-filter-{}-dense-{}-DropoutPercent-{}-DenseNodes-{}\".format(conv_layer, no_of_filters, dense_layer,drop_outs,dense_nodes, int(time.time()))          \n",
        "          i=i+1\n",
        "          print(i,end=\" \")\n",
        "          print(NAME)\n",
        "          if(dense_layer == 0 ):\n",
        "            break;\n",
        "          "
      ],
      "execution_count": 0,
      "outputs": [
        {
          "output_type": "stream",
          "text": [
            "1 2-conv-16-filter-0-dense-0.4-DropoutPercent-0-DenseNodes-1542035703\n",
            "2 2-conv-16-filter-0-dense-0.8-DropoutPercent-0-DenseNodes-1542035703\n",
            "3 3-conv-16-filter-0-dense-0.4-DropoutPercent-0-DenseNodes-1542035703\n",
            "4 3-conv-16-filter-0-dense-0.8-DropoutPercent-0-DenseNodes-1542035703\n",
            "5 2-conv-32-filter-0-dense-0.4-DropoutPercent-0-DenseNodes-1542035703\n",
            "6 2-conv-32-filter-0-dense-0.8-DropoutPercent-0-DenseNodes-1542035703\n",
            "7 3-conv-32-filter-0-dense-0.4-DropoutPercent-0-DenseNodes-1542035703\n",
            "8 3-conv-32-filter-0-dense-0.8-DropoutPercent-0-DenseNodes-1542035703\n"
          ],
          "name": "stdout"
        }
      ]
    },
    {
      "metadata": {
        "id": "wNwAAr1UoHqN",
        "colab_type": "code",
        "colab": {}
      },
      "cell_type": "code",
      "source": [
        ""
      ],
      "execution_count": 0,
      "outputs": []
    }
  ]
}